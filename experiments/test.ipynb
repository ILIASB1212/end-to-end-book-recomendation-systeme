{
 "cells": [
  {
   "cell_type": "code",
   "execution_count": null,
   "id": "af6019fa",
   "metadata": {},
   "outputs": [],
   "source": [
    "import joblib\n",
    "import numpy as np\n",
    "import pandas as pd"
   ]
  },
  {
   "cell_type": "code",
   "execution_count": 13,
   "id": "a946367f",
   "metadata": {},
   "outputs": [],
   "source": [
    "model=joblib.load('models_f/knn_model.joblib')\n",
    "pivote=joblib.load('models_f/pivote_table.joblib')\n",
    "book_name=joblib.load('models_f/book_name.joblib')\n",
    "final_rating=joblib.load('models_f/final_rating_table.joblib')"
   ]
  },
  {
   "cell_type": "code",
   "execution_count": 51,
   "id": "89c87d9b",
   "metadata": {},
   "outputs": [],
   "source": [
    "def recomend(select_book):\n",
    "    book_id=np.where(pivote.index==select_book)[0][0]\n",
    "    print(book_id)\n",
    "    distance,index=model.kneighbors(pivote.iloc[book_id,:].values.reshape(1,-1),n_neighbors=6)   \n",
    "    print(index)\n",
    "    for i in range(len(index)):\n",
    "        books=pivote.index[index[i]]\n",
    "        for j in books:\n",
    "            if j == select_book:\n",
    "                print(f'you searshed for this book : {select_book}')\n",
    "                print(f\"here is the results :\\n\")\n",
    "            else:\n",
    "                print(j)\n",
    "            \n",
    "    \n"
   ]
  },
  {
   "cell_type": "code",
   "execution_count": 52,
   "id": "0ec15069",
   "metadata": {},
   "outputs": [
    {
     "name": "stdout",
     "output_type": "stream",
     "text": [
      "314\n",
      "[[314 602 493  66 193 216]]\n",
      "you searshed for this book : Life of Pi\n",
      "here is the results :\n",
      "\n",
      "The Lovely Bones: A Novel\n",
      "Tell No One\n",
      "Balzac and the Little Chinese Seamstress : A Novel\n",
      "Fall On Your Knees (Oprah #45)\n",
      "Fried Green Tomatoes at the Whistle Stop Cafe\n"
     ]
    }
   ],
   "source": [
    "recomend(\"Life of Pi\")"
   ]
  },
  {
   "cell_type": "code",
   "execution_count": null,
   "id": "b8473d57",
   "metadata": {},
   "outputs": [],
   "source": []
  }
 ],
 "metadata": {
  "kernelspec": {
   "display_name": "env",
   "language": "python",
   "name": "python3"
  },
  "language_info": {
   "codemirror_mode": {
    "name": "ipython",
    "version": 3
   },
   "file_extension": ".py",
   "mimetype": "text/x-python",
   "name": "python",
   "nbconvert_exporter": "python",
   "pygments_lexer": "ipython3",
   "version": "3.8.0"
  }
 },
 "nbformat": 4,
 "nbformat_minor": 5
}
